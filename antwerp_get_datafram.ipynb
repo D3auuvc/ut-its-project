{
 "cells": [
  {
   "cell_type": "markdown",
   "metadata": {},
   "source": [
    "# Transferm Aggregate data to Dataframe"
   ]
  },
  {
   "cell_type": "code",
   "execution_count": 5,
   "metadata": {},
   "outputs": [],
   "source": [
    "# Import Module\n",
    "import glob\n",
    "import re\n",
    "import numpy as np\n",
    "import pandas as pd\n",
    "from utils.date_util import generate_date_range, weekday_parser\n",
    "from utils.h5utils import load_h5_file\n",
    "from utils.constants import *\n",
    "import csv"
   ]
  },
  {
   "cell_type": "code",
   "execution_count": 6,
   "metadata": {},
   "outputs": [],
   "source": [
    "def process_hourly_means_to_dataframe(city, date_range):\n",
    "    # create empty frame structure\n",
    "    frame = []\n",
    "    # Fetch map mask\n",
    "    static_map_with_mask = load_h5_file(f\"{BASE_FOLDER}/{city}/{city}_static_with_region_layer.h5\")[-1]\n",
    "    #get the region indices\n",
    "    regions_mask_values = np.unique(static_map_with_mask)\n",
    "    region_indices = {}\n",
    "    for index, region in enumerate(regions_mask_values):\n",
    "        indices = np.argwhere(static_map_with_mask == region)\n",
    "        region_indices[region] = indices\n",
    "    # fetch and process temporal data files\n",
    "    for date in date_range:\n",
    "        ## Can be used to aggregate data in pandas with groupby (where weekday is 0 (i.e. sunday))\n",
    "        weekday = weekday_parser(date)\n",
    "        \n",
    "        data = load_h5_file(f\"{BASE_FOLDER}/{city}/training/2019-04-03_{city}_8ch_aggregated.h5\")\n",
    "        \n",
    "        for hour in range(24):\n",
    "            hour_frame = data[hour]\n",
    "            ### for all channels, \n",
    "            for channel in [0, 2, 4, 6]:\n",
    "                channel_frame = hour_frame[:,:,channel]\n",
    "                for region_id, region in region_indices.items():\n",
    "                    ### calculate mean voulume of the region\n",
    "                    region_mean = channel_frame[(region)].sum() / np.count_nonzero(channel_frame[(region)])\n",
    "                    #print(region_mean, channel_frame[(region)].sum(), np.count_nonzero(channel_frame[(region)]))\n",
    "                    \n",
    "                    #print(channel_frame.shape, region.shape, np.count_nonzero(channel_frame), np.count_nonzero(region_mean))\n",
    "                    frame.append([date, weekday, hour, region_id, channel, region_mean])\n",
    "                    ### Save zipped [date, time (hour), region_id, channel id, and mean_values to frame]\n",
    "    \n",
    "    # Save frame\n",
    "    dataframe = pd.DataFrame(frame, columns=['date', 'weekday', 'hour', 'region_id', 'channel', 'region_mean'])\n",
    "    dataframe.to_csv(f\"{BASE_FOLDER}/{city}/hourly_processed_means.csv\")\n",
    "    return dataframe"
   ]
  },
  {
   "cell_type": "code",
   "execution_count": 7,
   "metadata": {},
   "outputs": [
    {
     "name": "stderr",
     "output_type": "stream",
     "text": [
      "/tmp/ipykernel_27575/2541733168.py:26: RuntimeWarning: invalid value encountered in true_divide\n",
      "  region_mean = channel_frame[(region)].sum() / np.count_nonzero(channel_frame[(region)])\n"
     ]
    }
   ],
   "source": [
    "date_range = generate_date_range(START_DATE, END_DATE)\n",
    "dataframe = process_hourly_means_to_dataframe(CITY_ANTWERP, date_range)"
   ]
  }
 ],
 "metadata": {
  "interpreter": {
   "hash": "3407107dd78f7a1671ffedf27f0ab5d596ffbdad105e47b5284c0e941a04a2b9"
  },
  "kernelspec": {
   "display_name": "Python 3.8.10 64-bit ('venv': venv)",
   "language": "python",
   "name": "python3"
  },
  "language_info": {
   "codemirror_mode": {
    "name": "ipython",
    "version": 3
   },
   "file_extension": ".py",
   "mimetype": "text/x-python",
   "name": "python",
   "nbconvert_exporter": "python",
   "pygments_lexer": "ipython3",
   "version": "3.8.10"
  },
  "orig_nbformat": 4
 },
 "nbformat": 4,
 "nbformat_minor": 2
}
